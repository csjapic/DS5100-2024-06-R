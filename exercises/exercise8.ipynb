{
 "cells": [
  {
   "cell_type": "markdown",
   "id": "90eec328-0234-4859-a018-e9c3be76ba84",
   "metadata": {},
   "source": [
    "# Exercise 8.1"
   ]
  },
  {
   "cell_type": "code",
   "execution_count": 2,
   "id": "ee2c9dac-f254-4ee1-ab67-fec7ef4fde83",
   "metadata": {
    "tags": []
   },
   "outputs": [
    {
     "name": "stdout",
     "output_type": "stream",
     "text": [
      "Caught an exception division by zero\n"
     ]
    }
   ],
   "source": [
    "x=5\n",
    "y=0\n",
    "try:\n",
    "    z= x/y\n",
    "    print('z=',z)\n",
    "except ZeroDivisionError as e:\n",
    "    print(\"Caught an exception\", e)"
   ]
  },
  {
   "cell_type": "markdown",
   "id": "82a62315-a86c-4a4b-94e3-d88ac105e7c9",
   "metadata": {},
   "source": [
    "# Exercise 8.2"
   ]
  },
  {
   "cell_type": "code",
   "execution_count": 3,
   "id": "3901840d-4340-4a90-bc06-41faca0e3768",
   "metadata": {
    "tags": []
   },
   "outputs": [],
   "source": [
    "x2 = 1 + 5 == 6\n",
    "assert x2, \"This is wrong\""
   ]
  },
  {
   "cell_type": "code",
   "execution_count": 5,
   "id": "f07a3af0-6428-4080-a6ad-d2e7024c6a3e",
   "metadata": {
    "tags": []
   },
   "outputs": [
    {
     "ename": "AssertionError",
     "evalue": "This is wrong",
     "output_type": "error",
     "traceback": [
      "\u001b[0;31m---------------------------------------------------------------------------\u001b[0m",
      "\u001b[0;31mAssertionError\u001b[0m                            Traceback (most recent call last)",
      "Cell \u001b[0;32mIn[5], line 2\u001b[0m\n\u001b[1;32m      1\u001b[0m x3 \u001b[38;5;241m=\u001b[39m \u001b[38;5;241m3\u001b[39m \u001b[38;5;241m+\u001b[39m \u001b[38;5;241m4\u001b[39m\u001b[38;5;241m==\u001b[39m\u001b[38;5;241m9\u001b[39m\n\u001b[0;32m----> 2\u001b[0m \u001b[38;5;28;01massert\u001b[39;00m x3, \u001b[38;5;124m\"\u001b[39m\u001b[38;5;124mThis is wrong\u001b[39m\u001b[38;5;124m\"\u001b[39m\n",
      "\u001b[0;31mAssertionError\u001b[0m: This is wrong"
     ]
    }
   ],
   "source": [
    "x3 = 3 + 4==9\n",
    "assert x3, \"This is wrong\""
   ]
  },
  {
   "cell_type": "markdown",
   "id": "e5f45116-46e3-4b4d-9de7-c571375fcd2b",
   "metadata": {},
   "source": [
    "# Exercise 8.3"
   ]
  },
  {
   "cell_type": "code",
   "execution_count": 17,
   "id": "5f118a8a-aa6e-4ace-b5e9-84abd877aac3",
   "metadata": {
    "tags": []
   },
   "outputs": [],
   "source": [
    "from math import pi\n",
    "\n",
    "def area(radius):\n",
    "    area = pi * radius**2\n",
    "    \n",
    "    "
   ]
  },
  {
   "cell_type": "code",
   "execution_count": 19,
   "id": "8de1f134-f5ff-4186-8300-c5a106bfa93c",
   "metadata": {
    "tags": []
   },
   "outputs": [
    {
     "ename": "AssertionError",
     "evalue": "Test 1 failed",
     "output_type": "error",
     "traceback": [
      "\u001b[0;31m---------------------------------------------------------------------------\u001b[0m",
      "\u001b[0;31mAssertionError\u001b[0m                            Traceback (most recent call last)",
      "Cell \u001b[0;32mIn[19], line 1\u001b[0m\n\u001b[0;32m----> 1\u001b[0m \u001b[38;5;28;01massert\u001b[39;00m \u001b[38;5;28misinstance\u001b[39m(area(\u001b[38;5;241m1\u001b[39m), \u001b[38;5;28mfloat\u001b[39m), \u001b[38;5;124m'\u001b[39m\u001b[38;5;124mTest 1 failed\u001b[39m\u001b[38;5;124m'\u001b[39m\n\u001b[1;32m      2\u001b[0m \u001b[38;5;28;01massert\u001b[39;00m area(\u001b[38;5;241m0\u001b[39m) \u001b[38;5;241m==\u001b[39m\u001b[38;5;241m0\u001b[39m, \u001b[38;5;124m'\u001b[39m\u001b[38;5;124mTest 2 failed\u001b[39m\u001b[38;5;124m'\u001b[39m\n\u001b[1;32m      3\u001b[0m \u001b[38;5;28;01massert\u001b[39;00m math\u001b[38;5;241m.\u001b[39misclose(area(\u001b[38;5;241m5\u001b[39m), \u001b[38;5;241m80\u001b[39m, abs_tol\u001b[38;5;241m=\u001b[39m\u001b[38;5;241m0.1\u001b[39m), \u001b[38;5;124m'\u001b[39m\u001b[38;5;124mTest 3 failed\u001b[39m\u001b[38;5;124m'\u001b[39m\n",
      "\u001b[0;31mAssertionError\u001b[0m: Test 1 failed"
     ]
    }
   ],
   "source": [
    "assert isinstance(area(1), float), 'Test 1 failed'\n",
    "assert area(0) ==0, 'Test 2 failed'\n",
    "assert math.isclose(area(5), 80, abs_tol=0.1), 'Test 3 failed'"
   ]
  },
  {
   "cell_type": "markdown",
   "id": "460cae4c-3443-4f27-9e4f-75674026a65b",
   "metadata": {},
   "source": [
    "# Exercise 8.4"
   ]
  },
  {
   "cell_type": "code",
   "execution_count": 42,
   "id": "2ea60321-8802-41bb-8277-3a1fa616a4cb",
   "metadata": {
    "tags": []
   },
   "outputs": [],
   "source": [
    "class Student:\n",
    "    \n",
    "    # constructor\n",
    "    def __init__(self, name, courses=None):\n",
    "        self.name = name # string type\n",
    "        self.courses = [] if courses is None else courses # list of strings\n",
    "        self.num_courses = len(self.courses)\n",
    "        \n",
    "    # enroll in a course\n",
    "    def enroll_in_course(self, course_name): \n",
    "        self.courses.append(course_name)\n",
    "        self.num_courses += 1 # increment the number of courses\n",
    "        \n",
    "    def unenroll_in_course(self, course_name):\n",
    "        if course_name in self.courses:\n",
    "            self.courses.remove(course_name)\n",
    "            self.num_courses -= 1\n",
    "            \n",
    "        else:\n",
    "            raise ValueError(\"Student was not enrolled in that course\")\n",
    "            "
   ]
  },
  {
   "cell_type": "code",
   "execution_count": 43,
   "id": "f6b53994-9ea5-40e8-b84b-cfa45aaf549e",
   "metadata": {
    "tags": []
   },
   "outputs": [
    {
     "name": "stderr",
     "output_type": "stream",
     "text": [
      "/sfs/qumulo/qhome/czz7bf/ (unittest.loader._FailedTest./sfs/qumulo/qhome/czz7bf/) ... ERROR\n",
      "\n",
      "======================================================================\n",
      "ERROR: /sfs/qumulo/qhome/czz7bf/ (unittest.loader._FailedTest./sfs/qumulo/qhome/czz7bf/)\n",
      "----------------------------------------------------------------------\n",
      "AttributeError: module '__main__' has no attribute '/sfs/qumulo/qhome/czz7bf/'\n",
      "\n",
      "----------------------------------------------------------------------\n",
      "Ran 1 test in 0.001s\n",
      "\n",
      "FAILED (errors=1)\n"
     ]
    },
    {
     "ename": "SystemExit",
     "evalue": "True",
     "output_type": "error",
     "traceback": [
      "An exception has occurred, use %tb to see the full traceback.\n",
      "\u001b[0;31mSystemExit\u001b[0m\u001b[0;31m:\u001b[0m True\n"
     ]
    },
    {
     "name": "stderr",
     "output_type": "stream",
     "text": [
      "/apps/software/standard/core/jupyterlab/3.6.3-py3.11/lib/python3.11/site-packages/IPython/core/interactiveshell.py:3513: UserWarning: To exit: use 'exit', 'quit', or Ctrl-D.\n",
      "  warn(\"To exit: use 'exit', 'quit', or Ctrl-D.\", stacklevel=1)\n"
     ]
    }
   ],
   "source": [
    "from student import Student\n",
    "import unittest\n",
    "\n",
    "class EnrollInTestCase(unittest.TestCase):\n",
    "    \n",
    "    def test_01(self):\n",
    "        student1 = Student('Kate', [\"CS 1700\"])\n",
    "        student1.enroll_in_course(\"DS 5100\")\n",
    "        student1.enroll_in_course(\"DS 6001\")\n",
    "        actual = student1.num_courses\n",
    "        expected = 3\n",
    "        self.assertEqual(actual, expected)\n",
    "        \n",
    "        \n",
    "    def test_02(self):\n",
    "        student1 = Student('Kate', ['CS 1700'])\n",
    "        course = \"DS 5100\"\n",
    "        student1.enroll_in_course(course)\n",
    "        student1.unenroll_in_course(course)\n",
    "        self.assertFalse(course in student1.courses)\n",
    "        \n",
    "    def test_03(self):\n",
    "        student1 = Student('Kate', ['CS 1700'])\n",
    "        expected = len(student1.courses)\n",
    "        course = \"DS 5100\"\n",
    "        student1.unenroll_in_course(course)\n",
    "        actual = len(student1.courses)\n",
    "        self.assertEqual(actual, expected)\n",
    "        \n",
    "if __name__ == '__main__':\n",
    "        unittest.main(verbosity=2)"
   ]
  },
  {
   "cell_type": "markdown",
   "id": "29903f81-1445-4b88-b009-495a7c8beae4",
   "metadata": {},
   "source": [
    "# Exercise 8.5"
   ]
  },
  {
   "cell_type": "code",
   "execution_count": 48,
   "id": "028bdabf-3496-4438-afba-238c97f11753",
   "metadata": {
    "tags": []
   },
   "outputs": [],
   "source": [
    "class Car:\n",
    "    body_types = ['suv', 'crossover', 'sedan', 'hatchback', 'sport']\n",
    "    engine_types = ['electric', 'gas', 'diesel', 'hybrid']\n",
    "    \n",
    "    def __init__(self, body_type, engine_type):\n",
    "        if body_type not in self.body_types:\n",
    "            raise ValueError(\"Invalid body type\")\n",
    "        if engine_type not in self.engine_types:\n",
    "            raise ValueError(\"Invalid engine type\")\n",
    "        self.body_type = body_type\n",
    "        self.engine_type = engine_type\n",
    "    def describe_car(self):\n",
    "        return f\"{self.engine_type} {self.body_type}\"\n",
    "    \n",
    "class Subaru(Car):  \n",
    "    \n",
    "    def __init__(self, body_type, engine_type, year, model, trim=None):\n",
    "        self.year = year\n",
    "        self.model = model\n",
    "        self.trim = trim\n",
    "        Car.__init__(self, body_type, engine_type)\n",
    "        \n",
    "    def describe(self):\n",
    "        return f\"{self.year} {self.model} {self.trim} ({self.describe_car()})\""
   ]
  },
  {
   "cell_type": "code",
   "execution_count": 50,
   "id": "09bd7f6e-cd9d-480d-8d3f-f9ec100489ae",
   "metadata": {},
   "outputs": [],
   "source": [
    "my_args = dict(\n",
    "    body_type = 'crossover',\n",
    "    engine_type = 'gas',\n",
    "    year = '2002',\n",
    "    model = 'outback',\n",
    "    trim = 'sport')\n",
    "my_car = Subaru(**my_args)"
   ]
  },
  {
   "cell_type": "code",
   "execution_count": 51,
   "id": "85095ffe-a26e-4e16-9458-2d2b67760254",
   "metadata": {
    "tags": []
   },
   "outputs": [
    {
     "data": {
      "text/plain": [
       "'2002 outback sport (gas crossover)'"
      ]
     },
     "execution_count": 51,
     "metadata": {},
     "output_type": "execute_result"
    }
   ],
   "source": [
    "my_car.describe()"
   ]
  },
  {
   "cell_type": "code",
   "execution_count": 53,
   "id": "9e52ba08-c483-4445-9c9f-1772012cc935",
   "metadata": {
    "tags": []
   },
   "outputs": [],
   "source": [
    "try:\n",
    "    my_car = Subaru(**my_args)\n",
    "except ValueError as e:\n",
    "    print(e)"
   ]
  }
 ],
 "metadata": {
  "kernelspec": {
   "display_name": "Python 3 (ipykernel)",
   "language": "python",
   "name": "python3"
  },
  "language_info": {
   "codemirror_mode": {
    "name": "ipython",
    "version": 3
   },
   "file_extension": ".py",
   "mimetype": "text/x-python",
   "name": "python",
   "nbconvert_exporter": "python",
   "pygments_lexer": "ipython3",
   "version": "3.11.4"
  }
 },
 "nbformat": 4,
 "nbformat_minor": 5
}
