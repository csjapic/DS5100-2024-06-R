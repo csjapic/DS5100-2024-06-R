{
 "cells": [
  {
   "cell_type": "code",
   "execution_count": 4,
   "id": "e2b58fa9-3056-4adc-938f-b86d37c2420e",
   "metadata": {
    "tags": []
   },
   "outputs": [
    {
     "name": "stdout",
     "output_type": "stream",
     "text": [
      "Time: 0.009052515029907227\n"
     ]
    }
   ],
   "source": [
    "import time\n",
    "t0 = time.time()\n",
    "val=[]\n",
    "for i in range(1, 100001):\n",
    "   if i % 2 == 1:\n",
    "    i *= -1\n",
    "    val.append(i)\n",
    "print('Time:', time.time()-t0)\n",
    "    "
   ]
  },
  {
   "cell_type": "code",
   "execution_count": 49,
   "id": "43bb7d4f-500a-4981-890a-019adaae2030",
   "metadata": {
    "tags": []
   },
   "outputs": [
    {
     "name": "stdout",
     "output_type": "stream",
     "text": [
      "Time: 0.006092548370361328\n"
     ]
    }
   ],
   "source": [
    "import time\n",
    "t0 = time.time()\n",
    "val = [-i if i % 2 == 1 else i for i in range(1, 100001)]\n",
    "print('Time:', time.time() - t0)"
   ]
  },
  {
   "cell_type": "code",
   "execution_count": 11,
   "id": "41cafb33-2a74-435f-b17f-47abf1cbc831",
   "metadata": {
    "tags": []
   },
   "outputs": [
    {
     "name": "stdout",
     "output_type": "stream",
     "text": [
      "3, 2, 1, 3, 1, 1, 5, 2, 3, 2\n"
     ]
    },
    {
     "data": {
      "text/plain": [
       "numpy.ndarray"
      ]
     },
     "execution_count": 11,
     "metadata": {},
     "output_type": "execute_result"
    }
   ],
   "source": [
    "import numpy as np\n",
    "import random\n",
    "ran_num = np.random.randint(1, 6, size=10)\n",
    "print(', '.join(ran_num.astype(str)))\n",
    "type(ran_num)\n"
   ]
  },
  {
   "cell_type": "code",
   "execution_count": 23,
   "id": "996e2735-36a3-49bf-8e1c-18b5207ecab4",
   "metadata": {
    "tags": []
   },
   "outputs": [
    {
     "name": "stdout",
     "output_type": "stream",
     "text": [
      "<class 'int'>\n",
      "<class 'numpy.ndarray'>\n"
     ]
    }
   ],
   "source": [
    "import random\n",
    "rnum1 = np.random.randint(1)\n",
    "print(type(rnum1))\n",
    "rnum2 = np.random.randint(2,6,9)\n",
    "print(type(rnum2))"
   ]
  },
  {
   "cell_type": "code",
   "execution_count": 24,
   "id": "9f1b3b36-e21e-4311-b1fb-4aebc5f469b0",
   "metadata": {
    "tags": []
   },
   "outputs": [
    {
     "data": {
      "text/plain": [
       "(array([1., 0., 0., 2., 0., 0., 5., 0., 0., 1.]),\n",
       " array([2. , 2.3, 2.6, 2.9, 3.2, 3.5, 3.8, 4.1, 4.4, 4.7, 5. ]),\n",
       " <BarContainer object of 10 artists>)"
      ]
     },
     "execution_count": 24,
     "metadata": {},
     "output_type": "execute_result"
    },
    {
     "data": {
      "image/png": "[encoded data removed]",
      "text/plain": [
       "<Figure size 640x480 with 1 Axes>"
      ]
     },
     "metadata": {},
     "output_type": "display_data"
    }
   ],
   "source": [
    "from matplotlib.pyplot import hist\n",
    "hist(rnum2)"
   ]
  },
  {
   "cell_type": "code",
   "execution_count": 28,
   "id": "02e4d149-2c8a-4e93-a10f-e35b24956b56",
   "metadata": {
    "tags": []
   },
   "outputs": [
    {
     "data": {
      "text/plain": [
       "array([[ 0.51224472, -0.09815615,  0.20573804],\n",
       "       [-1.40624065,  2.87617852,  1.27022421]])"
      ]
     },
     "execution_count": 28,
     "metadata": {},
     "output_type": "execute_result"
    }
   ],
   "source": [
    "ar = np.random.randn(2,3)\n",
    "ar"
   ]
  },
  {
   "cell_type": "code",
   "execution_count": 27,
   "id": "35ca7514-8b6c-4202-9bbf-9b6eb4feb80e",
   "metadata": {
    "tags": []
   },
   "outputs": [
    {
     "data": {
      "text/plain": [
       "array([[-2.82409275, -0.3801126 ,  0.44806691],\n",
       "       [ 0.10041067, -3.06657425,  0.31628953]])"
      ]
     },
     "execution_count": 27,
     "metadata": {},
     "output_type": "execute_result"
    }
   ],
   "source": [
    "mul_ar = ar * 2\n",
    "mul_ar"
   ]
  },
  {
   "cell_type": "code",
   "execution_count": 29,
   "id": "e8aa7b66-c333-4853-acc9-be9d0e028422",
   "metadata": {
    "tags": []
   },
   "outputs": [
    {
     "data": {
      "text/plain": [
       "array([[-5.64818549, -0.7602252 ,  0.89613382],\n",
       "       [ 0.20082135, -6.1331485 ,  0.63257906]])"
      ]
     },
     "execution_count": 29,
     "metadata": {},
     "output_type": "execute_result"
    }
   ],
   "source": [
    "mul_ar + mul_ar"
   ]
  },
  {
   "cell_type": "code",
   "execution_count": 30,
   "id": "09bd1e9a-7194-4fd1-a994-46d9ed86c032",
   "metadata": {
    "tags": []
   },
   "outputs": [
    {
     "data": {
      "text/plain": [
       "array([[-0.35409602, -2.6307994 ,  2.23180953],\n",
       "       [ 9.95910062, -0.32609678,  3.16166015]])"
      ]
     },
     "execution_count": 30,
     "metadata": {},
     "output_type": "execute_result"
    }
   ],
   "source": [
    "1/mul_ar"
   ]
  },
  {
   "cell_type": "code",
   "execution_count": 38,
   "id": "b0751e71-7c3b-4fab-abde-09044f6b24e3",
   "metadata": {
    "tags": []
   },
   "outputs": [
    {
     "name": "stdout",
     "output_type": "stream",
     "text": [
      "[[0. 0. 0. 0.]\n",
      " [0. 0. 0. 0.]]\n",
      "[[1. 1. 1. 1.]\n",
      " [1. 1. 1. 1.]]\n"
     ]
    }
   ],
   "source": [
    "shape = (2,4)\n",
    "z = np.zeros(shape)\n",
    "o = np.ones(shape)\n",
    "print(z)\n",
    "print(o)"
   ]
  },
  {
   "cell_type": "code",
   "execution_count": 37,
   "id": "cb1678ff-d619-449e-a806-21bdc2b19974",
   "metadata": {
    "tags": []
   },
   "outputs": [
    {
     "name": "stdout",
     "output_type": "stream",
     "text": [
      "[[1. 0. 0. 0.]\n",
      " [0. 1. 0. 0.]\n",
      " [0. 0. 1. 0.]\n",
      " [0. 0. 0. 1.]]\n"
     ]
    }
   ],
   "source": [
    "i = np.identity(4)\n",
    "print(i)"
   ]
  },
  {
   "cell_type": "code",
   "execution_count": 42,
   "id": "8a84e1c0-3bba-45e9-b9cf-bbfd0c9466d7",
   "metadata": {
    "tags": []
   },
   "outputs": [
    {
     "name": "stdout",
     "output_type": "stream",
     "text": [
      "[-0.49860553 -0.52078415  0.08128331]\n",
      "[-0.49860553 -0.52078415  0.08128331]\n"
     ]
    }
   ],
   "source": [
    "int = np.random.randn(5)\n",
    "print(int[1:4])\n",
    "print(int[1:-1])"
   ]
  },
  {
   "cell_type": "code",
   "execution_count": 48,
   "id": "435f7ca2-377b-46d8-9adb-a3d53db89b89",
   "metadata": {
    "tags": []
   },
   "outputs": [
    {
     "name": "stdout",
     "output_type": "stream",
     "text": [
      "[False False False False False]\n"
     ]
    },
    {
     "data": {
      "text/plain": [
       "array([], dtype=float64)"
      ]
     },
     "execution_count": 48,
     "metadata": {},
     "output_type": "execute_result"
    }
   ],
   "source": [
    "bool_ind = int > 0.15\n",
    "print(bool_ind)\n"
   ]
  },
  {
   "cell_type": "code",
   "execution_count": null,
   "id": "766771a2-b2c6-417a-8ccc-b6606c171999",
   "metadata": {},
   "outputs": [],
   "source": []
  }
 ],
 "metadata": {
  "kernelspec": {
   "display_name": "Python 3 (ipykernel)",
   "language": "python",
   "name": "python3"
  },
  "language_info": {
   "codemirror_mode": {
    "name": "ipython",
    "version": 3
   },
   "file_extension": ".py",
   "mimetype": "text/x-python",
   "name": "python",
   "nbconvert_exporter": "python",
   "pygments_lexer": "ipython3",
   "version": "3.11.4"
  }
 },
 "nbformat": 4,
 "nbformat_minor": 5
}
