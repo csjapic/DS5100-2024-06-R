{
 "cells": [
  {
   "cell_type": "code",
   "execution_count": 18,
   "id": "9aba0503-c7a9-473a-ad45-06bd2e8af05b",
   "metadata": {
    "tags": []
   },
   "outputs": [
    {
     "data": {
      "text/plain": [
       "False"
      ]
     },
     "execution_count": 18,
     "metadata": {},
     "output_type": "execute_result"
    }
   ],
   "source": [
    "def string_length_of_integer(string, int):\n",
    "    \"\"\"\n",
    "    Function takes the length of a string and compares it to the integer to see if they equal\"\n",
    "    \"\"\"\n",
    "    return len(string) == int\n",
    "string_length_of_integer('job', 9)"
   ]
  },
  {
   "cell_type": "code",
   "execution_count": 20,
   "id": "e699d97e-30ad-432e-ada3-1590f959c51f",
   "metadata": {
    "tags": []
   },
   "outputs": [
    {
     "name": "stdout",
     "output_type": "stream",
     "text": [
      "1\n",
      "4\n",
      "9\n"
     ]
    }
   ],
   "source": [
    "def sq_arg(*vals):\n",
    "    for val in vals: \n",
    "         print(val**2)\n",
    "    return None\n",
    "sq_arg(1,2,3)"
   ]
  },
  {
   "cell_type": "code",
   "execution_count": 22,
   "id": "8142d702-44e6-4b5a-b0ec-c97cccb55c06",
   "metadata": {
    "tags": []
   },
   "outputs": [
    {
     "data": {
      "text/plain": [
       "'G7N'"
      ]
     },
     "execution_count": 22,
     "metadata": {},
     "output_type": "execute_result"
    }
   ],
   "source": [
    "def word_shortener(word, min=4):\n",
    "    \"\"\"\n",
    "    Accept strings and shorten to become the first letter capitalized, the last letter capitalized, adn the number of middle letters in between\n",
    "    \"\"\"\n",
    "    if not isinstance(word, str):\n",
    "        print(f\"{word} is a {type(word)}, not a string!\")\n",
    "        return False\n",
    "    elif len(word) < min:\n",
    "        print (f\"{word} is too short. Insert word with {min} letters minimum.\")\n",
    "        return False\n",
    "    else:\n",
    "        first = word[0].upper()\n",
    "        last = word[-1].upper()\n",
    "        middle = len(word[1:-1])\n",
    "        new_word = first + str(middle) + last\n",
    "        return new_word\n",
    "word_shortener('greenbean')"
   ]
  },
  {
   "cell_type": "code",
   "execution_count": 16,
   "id": "4c2827b7-7c19-426f-897d-85b41c90d48c",
   "metadata": {
    "tags": []
   },
   "outputs": [
    {
     "data": {
      "text/plain": [
       "1"
      ]
     },
     "execution_count": 16,
     "metadata": {},
     "output_type": "execute_result"
    }
   ],
   "source": [
    "def math_equation(numeric):\n",
    "    if (numeric - 5) >= 0:\n",
    "        return 1\n",
    "    return 0\n",
    "    \n",
    "math_equation(6)"
   ]
  },
  {
   "cell_type": "code",
   "execution_count": null,
   "id": "a5edb426-593b-42ed-8608-749a2554a067",
   "metadata": {},
   "outputs": [],
   "source": []
  }
 ],
 "metadata": {
  "kernelspec": {
   "display_name": "Python 3 (ipykernel)",
   "language": "python",
   "name": "python3"
  },
  "language_info": {
   "codemirror_mode": {
    "name": "ipython",
    "version": 3
   },
   "file_extension": ".py",
   "mimetype": "text/x-python",
   "name": "python",
   "nbconvert_exporter": "python",
   "pygments_lexer": "ipython3",
   "version": "3.11.4"
  }
 },
 "nbformat": 4,
 "nbformat_minor": 5
}
