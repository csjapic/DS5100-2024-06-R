{
 "cells": [
  {
   "cell_type": "markdown",
   "id": "03beebd3-7754-4a21-94d1-9bf36a607fee",
   "metadata": {},
   "source": [
    "# Exercise 7"
   ]
  },
  {
   "cell_type": "markdown",
   "id": "69b1102a-63cb-40c8-97c7-887020180a36",
   "metadata": {},
   "source": [
    "## 1"
   ]
  },
  {
   "cell_type": "code",
   "execution_count": 40,
   "id": "5517f064-e43f-4b13-8f78-916a36a53ba1",
   "metadata": {
    "tags": []
   },
   "outputs": [],
   "source": [
    "import pandas as pd\n",
    "import numpy as np"
   ]
  },
  {
   "cell_type": "code",
   "execution_count": 41,
   "id": "527c0ede-9f8a-4f0e-94ae-f378434c2574",
   "metadata": {
    "tags": []
   },
   "outputs": [],
   "source": [
    "class MyClass():\n",
    "    \"\"\"\n",
    "    Example class for Exercise 7.1\n",
    "    \"\"\"\n",
    "    att1= 'foo'\n",
    "    \n",
    "    def __init__(self, att2):\n",
    "        self.att2 = att2\n",
    "    \n",
    "    def add(self):\n",
    "        self.msg = self.att1 + ' ' + self.att2\n",
    "        print(self.msg)"
   ]
  },
  {
   "cell_type": "markdown",
   "id": "56534c21-f50b-4dd1-993b-3c2c507385f8",
   "metadata": {},
   "source": [
    "## 2"
   ]
  },
  {
   "cell_type": "code",
   "execution_count": 42,
   "id": "6a4befa8-eccd-4349-a8e4-a14ff17f8731",
   "metadata": {
    "tags": []
   },
   "outputs": [
    {
     "data": {
      "text/plain": [
       "('foo', 'pool')"
      ]
     },
     "execution_count": 42,
     "metadata": {},
     "output_type": "execute_result"
    }
   ],
   "source": [
    "myclass = MyClass('pool')\n",
    "myclass.att1, myclass.att2\n"
   ]
  },
  {
   "cell_type": "markdown",
   "id": "7b4a6c11-3bad-47c3-922c-4484dcb4eed4",
   "metadata": {},
   "source": [
    "# 3"
   ]
  },
  {
   "cell_type": "code",
   "execution_count": 52,
   "id": "1384914d-2f92-4bec-ac3b-c6c40d924626",
   "metadata": {
    "tags": []
   },
   "outputs": [],
   "source": [
    "import pandas as pd\n",
    "\n",
    "class Student():\n",
    "    def __init__(self, student_name, student_id):\n",
    "        self.name = student_name\n",
    "        self.id = student_id\n",
    "        self.grades = pd.Series(dtype=float)\n",
    "    \n",
    "    def add_grade(self, assignment, grade):\n",
    "        self.grades.loc[assignment] = grade\n",
    "        \n",
    "    def plot_grades(self):\n",
    "        self.grades.plot.bar(title=f\"Grades for {self.name} ({self.id})\")\n",
    "        \n",
    "    def show_grades(self):\n",
    "        print(self.grades)"
   ]
  },
  {
   "cell_type": "markdown",
   "id": "47625c3a-e4ee-4697-aa04-dfbbc50ce7b3",
   "metadata": {},
   "source": [
    "# 4"
   ]
  },
  {
   "cell_type": "code",
   "execution_count": 53,
   "id": "1ac6d1e9-21ca-4da4-bf8c-5e751a5fcc44",
   "metadata": {
    "tags": []
   },
   "outputs": [],
   "source": [
    "student1 = Student(\"Jane Smith\", 'js1z')\n",
    "student1.add_grade(\"HW01\", 99)\n",
    "student1.add_grade(\"HW02\", 94)\n",
    "student1.add_grade(\"HW03\", 92)\n",
    "student1.add_grade(\"HW04\", 96)"
   ]
  },
  {
   "cell_type": "code",
   "execution_count": 54,
   "id": "b65e5eb5-dcfd-4ef5-bae3-71fa0de12586",
   "metadata": {
    "tags": []
   },
   "outputs": [
    {
     "name": "stdout",
     "output_type": "stream",
     "text": [
      "HW01    99\n",
      "HW02    94\n",
      "HW03    92\n",
      "HW04    96\n",
      "dtype: int64\n"
     ]
    }
   ],
   "source": [
    "student1.show_grades()"
   ]
  },
  {
   "cell_type": "markdown",
   "id": "1baaf7f1-14ea-4a70-abb2-70daa84f9722",
   "metadata": {},
   "source": [
    "## 5"
   ]
  },
  {
   "cell_type": "code",
   "execution_count": 65,
   "id": "81b7ccc8-ff3e-459e-b718-4ff14f272e74",
   "metadata": {
    "tags": []
   },
   "outputs": [],
   "source": [
    "class V3(): \n",
    "    \n",
    "    def __intit__(self, instance_size, num_vcpus, memory, disk_space):\n",
    "        self.instance_size= instance_size\n",
    "        self.num_vcpus = num_vcpus\n",
    "        self.memory = memory\n",
    "        self.disk_space = disk_space\n",
    "    \n",
    "    def add_disk_space(self, amt_to_add):\n",
    "        self.disk_space += amt_to_add\n",
    "    \n",
    "    def has_enough_disk_space(self, amt_required):\n",
    "        if self.disk_space >= amt_required:\n",
    "            print(\"Enough space\")\n",
    "            return True\n",
    "        else:\n",
    "            print(\"Not enough space\")\n",
    "            return False"
   ]
  },
  {
   "cell_type": "markdown",
   "id": "06157859-25c8-4d4f-ae59-e529db6ed612",
   "metadata": {},
   "source": [
    "# 6"
   ]
  },
  {
   "cell_type": "code",
   "execution_count": 66,
   "id": "766bbcf6-66d8-4670-902f-c13d6d552efd",
   "metadata": {},
   "outputs": [
    {
     "ename": "TypeError",
     "evalue": "V3() takes no arguments",
     "output_type": "error",
     "traceback": [
      "\u001b[0;31m---------------------------------------------------------------------------\u001b[0m",
      "\u001b[0;31mTypeError\u001b[0m                                 Traceback (most recent call last)",
      "Cell \u001b[0;32mIn[66], line 1\u001b[0m\n\u001b[0;32m----> 1\u001b[0m obj_1 \u001b[38;5;241m=\u001b[39m \u001b[43mV3\u001b[49m\u001b[43m(\u001b[49m\u001b[38;5;124;43m'\u001b[39;49m\u001b[38;5;124;43mlarge\u001b[39;49m\u001b[38;5;124;43m'\u001b[39;49m\u001b[43m,\u001b[49m\u001b[43m \u001b[49m\u001b[38;5;241;43m32\u001b[39;49m\u001b[43m,\u001b[49m\u001b[43m \u001b[49m\u001b[38;5;241;43m256\u001b[39;49m\u001b[43m,\u001b[49m\u001b[43m \u001b[49m\u001b[38;5;241;43m1.0\u001b[39;49m\u001b[43m)\u001b[49m\n\u001b[1;32m      2\u001b[0m obj_1\u001b[38;5;241m.\u001b[39madd_disk_space(\u001b[38;5;241m2.0\u001b[39m)\n\u001b[1;32m      3\u001b[0m \u001b[38;5;28mprint\u001b[39m(obj_1\u001b[38;5;241m.\u001b[39mdisk_space)\n",
      "\u001b[0;31mTypeError\u001b[0m: V3() takes no arguments"
     ]
    }
   ],
   "source": [
    "obj_1 = V3('large', 32, 256, 1.0)\n",
    "obj_1.add_disk_space(2.0)\n",
    "print(obj_1.disk_space)\n",
    "print(obj_1.has_enough_disk_space(10.0))"
   ]
  },
  {
   "cell_type": "markdown",
   "id": "5a37a279-4b68-44d3-a07d-ce658d7a6ec5",
   "metadata": {},
   "source": [
    "# 7"
   ]
  },
  {
   "cell_type": "code",
   "execution_count": 58,
   "id": "b111e5df-ade4-4ed4-aac7-cbc2b676f526",
   "metadata": {
    "tags": []
   },
   "outputs": [],
   "source": [
    "from math import pi\n",
    "\n",
    "class Circle():\n",
    "    \n",
    "    def __init__(self, r):\n",
    "        self.r = r\n",
    "    \n",
    "    def get_area(self):\n",
    "        self.area = round(self.r**2 * pi,2)\n",
    "    \n",
    "    def get_circum(self):\n",
    "        self.circum = round(2 * self.r* pi,2)\n",
    "        "
   ]
  },
  {
   "cell_type": "code",
   "execution_count": 59,
   "id": "bd22e781-07b0-4f1b-883a-df7d3961b18f",
   "metadata": {},
   "outputs": [],
   "source": [
    "my_circle = Circle(4)\n",
    "my_circle.get_area()\n",
    "my_circle.get_circum()"
   ]
  },
  {
   "cell_type": "code",
   "execution_count": 62,
   "id": "da033d66-35b5-4cae-a574-a8679d855d17",
   "metadata": {
    "tags": []
   },
   "outputs": [
    {
     "name": "stdout",
     "output_type": "stream",
     "text": [
      "A: 50.27\n",
      "C 25.13\n"
     ]
    }
   ],
   "source": [
    "print('A:', my_circle.area)\n",
    "print('C', my_circle.circum)"
   ]
  },
  {
   "cell_type": "code",
   "execution_count": null,
   "id": "07796fa1-af45-4aab-bdc1-1fd7b8b4b91b",
   "metadata": {},
   "outputs": [],
   "source": []
  }
 ],
 "metadata": {
  "kernelspec": {
   "display_name": "Python 3 (ipykernel)",
   "language": "python",
   "name": "python3"
  },
  "language_info": {
   "codemirror_mode": {
    "name": "ipython",
    "version": 3
   },
   "file_extension": ".py",
   "mimetype": "text/x-python",
   "name": "python",
   "nbconvert_exporter": "python",
   "pygments_lexer": "ipython3",
   "version": "3.11.4"
  }
 },
 "nbformat": 4,
 "nbformat_minor": 5
}
